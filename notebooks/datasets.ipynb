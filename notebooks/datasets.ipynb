{
 "cells": [
  {
   "cell_type": "code",
   "execution_count": 10,
   "metadata": {},
   "outputs": [],
   "source": [
    "# imports\n",
    "import glob\n",
    "import os\n",
    "import pandas as pd\n",
    "from collections import defaultdict"
   ]
  },
  {
   "cell_type": "code",
   "execution_count": 11,
   "metadata": {},
   "outputs": [],
   "source": [
    "DATASET_DIR = \"/scratch-shared/scur0555/datasets\"\n",
    "DATASET = \"df40\"\n",
    "DATASET_PATH = f\"{DATASET_DIR}/{DATASET}/test\"\n",
    "DATASET_TYPE = \"MidJourney\""
   ]
  },
  {
   "cell_type": "code",
   "execution_count": 12,
   "metadata": {},
   "outputs": [],
   "source": [
    "def list_files(startpath, max_depth=None):\n",
    "    for root, dirs, files in os.walk(startpath):\n",
    "        # Calculate current level\n",
    "        level = root.replace(startpath, '').count(os.sep)\n",
    "        \n",
    "        # If we exceed max_depth, remove directories from further walking\n",
    "        if max_depth is not None and level >= max_depth:\n",
    "            dirs[:] = []  # This effectively stops os.walk from going deeper\n",
    "        \n",
    "        indent = ' ' * 4 * level\n",
    "        print('{}{}/'.format(indent, os.path.basename(root)))\n",
    "        \n",
    "        subindent = ' ' * 4 * (level + 1)\n",
    "        for f in files:\n",
    "            print('{}{}'.format(subindent, f))"
   ]
  },
  {
   "cell_type": "markdown",
   "metadata": {},
   "source": [
    "### DF40"
   ]
  },
  {
   "cell_type": "code",
   "execution_count": 13,
   "metadata": {},
   "outputs": [
    {
     "data": {
      "text/plain": [
       "'\\n/scratch-shared/scur0555/datasets/df40\\n│\\n├── test\\n│   ├── fsgan\\n│       ├── ff\\n│       └── cdf\\n│   ├── faceswap\\n│       ├── ff\\n│       └── cdf\\n│   ├── simswap\\n│       ├── ff\\n│       └── cdf\\n│   ├── inswap\\n│       ├── ff\\n│       └── cdf\\n│   ├── blendface\\n│       ├── ff\\n│       └── cdf\\n│   ├── uniface\\n│       ├── ff\\n│       └── cdf\\n│   ├── mobileswap\\n│       ├── ff\\n│       └── cdf\\n│   ├── e4s\\n│       ├── ff\\n│       └── cdf\\n│   ├── facedancer\\n│       ├── ff\\n│       └── cdf\\n│   ├── fomm\\n│       ├── ff\\n│       └── cdf\\n│   ├── facevid2vid\\n│       ├── ff\\n│       └── cdf\\n│   ├── wav2lip\\n│       ├── ff\\n│       └── cdf\\n│   ├── MRAA\\n│       ├── ff\\n│       └── cdf\\n│   ├── one_shot_free\\n│       ├── ff\\n│       └── cdf\\n│   ├── pirender\\n│       ├── ff\\n│       └── cdf\\n│   ├── tpsm\\n│       ├── ff\\n│       └── cdf\\n│   ├── lia\\n│       ├── ff\\n│       └── cdf\\n│   ├── danet\\n│       ├── ff\\n│       └── cdf\\n│   ├── sadtalker\\n│       ├── ff\\n│       └── cdf\\n│   ├── mcnet\\n│       ├── ff\\n│       └── cdf\\n│   ├── heygen\\n│       ├── fake\\n│       └── real\\n│   ├── VQGAN\\n│       ├── ff\\n│       └── cdf\\n│   ├── StyleGAN2\\n│       ├── ff\\n│       └── cdf\\n│   ├── StyleGAN3\\n│       ├── ff\\n│       └── cdf\\n│   ├── StyleGANXL\\n│       ├── ff\\n│       └── cdf\\n│   ├── sd2.1\\n│       ├── ff\\n│       └── cdf\\n│   ├── ddim\\n│       ├── ff\\n│       └── cdf\\n│   ├── PixArt\\n│       ├── ff\\n│       └── cdf\\n│   ├── DiT\\n│       ├── ff\\n│       └── cdf\\n│   ├── SiT\\n│       ├── ff\\n│       └── cdf\\n│   ├── MidJourney\\n│       ├── fake\\n│       └── real\\n│   ├── whichfaceisreal\\n│       ├── fake\\n│       └── real\\n│   ├── stargan\\n│       ├── fake\\n│       └── real\\n│   ├── starganv2\\n│       ├── fake\\n│       └── real\\n│   ├── styleclip\\n│       ├── fake\\n│       └── real\\n│   ├── e4e\\n│       ├── fake\\n│       └── real\\n│   └── CollabDiff\\n│       ├── fake\\n│       └── real\\n'"
      ]
     },
     "execution_count": 13,
     "metadata": {},
     "output_type": "execute_result"
    }
   ],
   "source": [
    "\"\"\"\n",
    "/scratch-shared/scur0555/datasets/df40\n",
    "│\n",
    "├── test\n",
    "│   ├── fsgan\n",
    "│       ├── ff\n",
    "│       └── cdf\n",
    "│   ├── faceswap\n",
    "│       ├── ff\n",
    "│       └── cdf\n",
    "│   ├── simswap\n",
    "│       ├── ff\n",
    "│       └── cdf\n",
    "│   ├── inswap\n",
    "│       ├── ff\n",
    "│       └── cdf\n",
    "│   ├── blendface\n",
    "│       ├── ff\n",
    "│       └── cdf\n",
    "│   ├── uniface\n",
    "│       ├── ff\n",
    "│       └── cdf\n",
    "│   ├── mobileswap\n",
    "│       ├── ff\n",
    "│       └── cdf\n",
    "│   ├── e4s\n",
    "│       ├── ff\n",
    "│       └── cdf\n",
    "│   ├── facedancer\n",
    "│       ├── ff\n",
    "│       └── cdf\n",
    "│   ├── fomm\n",
    "│       ├── ff\n",
    "│       └── cdf\n",
    "│   ├── facevid2vid\n",
    "│       ├── ff\n",
    "│       └── cdf\n",
    "│   ├── wav2lip\n",
    "│       ├── ff\n",
    "│       └── cdf\n",
    "│   ├── MRAA\n",
    "│       ├── ff\n",
    "│       └── cdf\n",
    "│   ├── one_shot_free\n",
    "│       ├── ff\n",
    "│       └── cdf\n",
    "│   ├── pirender\n",
    "│       ├── ff\n",
    "│       └── cdf\n",
    "│   ├── tpsm\n",
    "│       ├── ff\n",
    "│       └── cdf\n",
    "│   ├── lia\n",
    "│       ├── ff\n",
    "│       └── cdf\n",
    "│   ├── danet\n",
    "│       ├── ff\n",
    "│       └── cdf\n",
    "│   ├── sadtalker\n",
    "│       ├── ff\n",
    "│       └── cdf\n",
    "│   ├── mcnet\n",
    "│       ├── ff\n",
    "│       └── cdf\n",
    "│   ├── heygen\n",
    "│       ├── fake\n",
    "│       └── real\n",
    "│   ├── VQGAN\n",
    "│       ├── ff\n",
    "│       └── cdf\n",
    "│   ├── StyleGAN2\n",
    "│       ├── ff\n",
    "│       └── cdf\n",
    "│   ├── StyleGAN3\n",
    "│       ├── ff\n",
    "│       └── cdf\n",
    "│   ├── StyleGANXL\n",
    "│       ├── ff\n",
    "│       └── cdf\n",
    "│   ├── sd2.1\n",
    "│       ├── ff\n",
    "│       └── cdf\n",
    "│   ├── ddim\n",
    "│       ├── ff\n",
    "│       └── cdf\n",
    "│   ├── PixArt\n",
    "│       ├── ff\n",
    "│       └── cdf\n",
    "│   ├── DiT\n",
    "│       ├── ff\n",
    "│       └── cdf\n",
    "│   ├── SiT\n",
    "│       ├── ff\n",
    "│       └── cdf\n",
    "│   ├── MidJourney\n",
    "│       ├── fake\n",
    "│       └── real\n",
    "│   ├── whichfaceisreal\n",
    "│       ├── fake\n",
    "│       └── real\n",
    "│   ├── stargan\n",
    "│       ├── fake\n",
    "│       └── real\n",
    "│   ├── starganv2\n",
    "│       ├── fake\n",
    "│       └── real\n",
    "│   ├── styleclip\n",
    "│       ├── fake\n",
    "│       └── real\n",
    "│   ├── e4e\n",
    "│       ├── fake\n",
    "│       └── real\n",
    "│   └── CollabDiff\n",
    "│       ├── fake\n",
    "│       └── real\n",
    "\"\"\""
   ]
  },
  {
   "cell_type": "code",
   "execution_count": 14,
   "metadata": {},
   "outputs": [
    {
     "data": {
      "text/plain": [
       "['/scratch-shared/scur0555/datasets/df40/train',\n",
       " '/scratch-shared/scur0555/datasets/df40/configs',\n",
       " '/scratch-shared/scur0555/datasets/df40/val',\n",
       " '/scratch-shared/scur0555/datasets/df40/test']"
      ]
     },
     "execution_count": 14,
     "metadata": {},
     "output_type": "execute_result"
    }
   ],
   "source": [
    "# dataset structure\n",
    "glob.glob(f\"{DATASET_DIR}/{DATASET}/**\")"
   ]
  },
  {
   "cell_type": "code",
   "execution_count": 15,
   "metadata": {},
   "outputs": [
    {
     "name": "stdout",
     "output_type": "stream",
     "text": [
      "Total Configs 82\n",
      "/scratch-shared/scur0555/datasets/df40/configs/\n",
      "                                   source\n",
      "dataset     config                       \n",
      "CollabDiff  CollabDiff.json    CollabDiff\n",
      "DiT         DiT_cdf.json              cdf\n",
      "            DiT_ff.json                ff\n",
      "EFSAll      EFSAll_cdf.json           cdf\n",
      "            EFSAll_ff.json             ff\n",
      "...                                   ...\n",
      "uniface     uniface_ff.json            ff\n",
      "            uniface_ori.json          ori\n",
      "wav2lip     wav2lip_cdf.json          cdf\n",
      "            wav2lip_ff.json            ff\n",
      "whichisreal whichisreal.json  whichisreal\n",
      "\n",
      "[81 rows x 1 columns]\n"
     ]
    }
   ],
   "source": [
    "# config files used while loading the presets\n",
    "configs = glob.glob(f\"{DATASET_DIR}/{DATASET}/configs/*.json\")\n",
    "print(\"Total Configs\", len(configs))\n",
    "print(f\"{DATASET_DIR}/{DATASET}/configs/\")\n",
    "\n",
    "configs.sort()\n",
    "config_data = defaultdict(list)\n",
    "for cfg in configs:\n",
    "    # print(\"\\t\", os.path.basename(cfg))\n",
    "    # ignore DF40 all config\n",
    "    if cfg.endswith(\"DF40_all.json\"): \n",
    "        continue\n",
    "    cfg_name = os.path.basename(cfg)\n",
    "    config_data[\"dataset\"].append(cfg_name.split(\".\")[0].split(\"_\")[0])\n",
    "    config_data[\"config\"].append(cfg_name)\n",
    "    config_data[\"source\"].append(cfg_name.split(\"_\")[-1].split(\".\")[0])\n",
    "\n",
    "config_df = pd.DataFrame(config_data)\n",
    "# grouped_df = config_df.groupby('dataset')\n",
    "\n",
    "print(config_df.set_index(['dataset', 'config']).sort_index())"
   ]
  },
  {
   "cell_type": "code",
   "execution_count": 16,
   "metadata": {},
   "outputs": [
    {
     "name": "stdout",
     "output_type": "stream",
     "text": [
      "['CollabDiff' 'DiT' 'EFSAll' 'FRAll' 'FSAll' 'MRAA' 'MidJourney' 'SiT'\n",
      " 'StyleGAN2' 'StyleGAN3' 'StyleGANXL' 'VQGAN' 'blendface' 'danet' 'ddim'\n",
      " 'deepfacelab' 'e4e' 'e4s' 'facedancer' 'faceswap' 'facevid2vid' 'fomm'\n",
      " 'fsgan' 'heygen' 'hyperreenact' 'inswap' 'lia' 'mcnet' 'mobileswap' 'one'\n",
      " 'pirender' 'pixart' 'rddm' 'sadtalker' 'sd2' 'simswap' 'stargan'\n",
      " 'starganv2' 'styleclip' 'tpsm' 'uniface' 'wav2lip' 'whichisreal']\n",
      "Total Unique Datasets: 43\n"
     ]
    }
   ],
   "source": [
    "config_names = config_df[\"dataset\"].unique()\n",
    "print(config_names)\n",
    "print(\"Total Unique Datasets:\", len(config_names))"
   ]
  },
  {
   "cell_type": "code",
   "execution_count": 17,
   "metadata": {},
   "outputs": [
    {
     "name": "stdout",
     "output_type": "stream",
     "text": [
      "Total Datasets:  37\n"
     ]
    }
   ],
   "source": [
    "datasets = [os.path.basename(p) for p in glob.glob(f\"{DATASET_PATH}/*\") if not p.endswith(('.zip', '.json'))]\n",
    "print(\"Total Datasets: \", len(datasets))"
   ]
  },
  {
   "cell_type": "code",
   "execution_count": 18,
   "metadata": {},
   "outputs": [
    {
     "data": {
      "text/plain": [
       "{'EFSAll',\n",
       " 'FRAll',\n",
       " 'FSAll',\n",
       " 'e4e',\n",
       " 'one',\n",
       " 'pixart',\n",
       " 'rddm',\n",
       " 'sd2',\n",
       " 'whichisreal'}"
      ]
     },
     "execution_count": 18,
     "metadata": {},
     "output_type": "execute_result"
    }
   ],
   "source": [
    "# missing data\n",
    "set(config_names) - set(datasets)"
   ]
  },
  {
   "cell_type": "code",
   "execution_count": 19,
   "metadata": {},
   "outputs": [],
   "source": [
    "ff_cdf_list = [\n",
    "    'fsgan',\n",
    "    'faceswap',\n",
    "    'simswap',\n",
    "    'inswap',\n",
    "    'blendface',\n",
    "    'uniface',\n",
    "    'mobileswap',\n",
    "    'e4s',\n",
    "    'facedancer',\n",
    "    'fomm',\n",
    "    'facevid2vid',\n",
    "    'wav2lip',\n",
    "    'MRAA',\n",
    "    'one_shot_free',\n",
    "    'pirender',\n",
    "    'tpsm',\n",
    "    'lia',\n",
    "    'danet',\n",
    "    'sadtalker',\n",
    "    'mcnet',\n",
    "    'VQGAN',\n",
    "    'StyleGAN2',\n",
    "    'StyleGAN3',\n",
    "    'StyleGANXL',\n",
    "    'sd2.1',\n",
    "    'ddim',\n",
    "    'PixArt',\n",
    "    'DiT',\n",
    "    'SiT'\n",
    "]\n",
    "\n",
    "real_fake_list = [\n",
    "    'heygen',\n",
    "    'MidJourney',\n",
    "    'whichfaceisreal',\n",
    "    'stargan',\n",
    "    'starganv2',\n",
    "    'styleclip',\n",
    "    'e4e',\n",
    "    'CollabDiff'\n",
    "]\n"
   ]
  },
  {
   "cell_type": "code",
   "execution_count": 40,
   "metadata": {},
   "outputs": [
    {
     "data": {
      "text/plain": [
       "1000"
      ]
     },
     "execution_count": 40,
     "metadata": {},
     "output_type": "execute_result"
    }
   ],
   "source": [
    "len(glob.glob(f\"{DATASET_PATH}/whichisreal/real/*.jpeg\"))"
   ]
  },
  {
   "cell_type": "code",
   "execution_count": null,
   "metadata": {},
   "outputs": [
    {
     "data": {
      "text/plain": [
       "8"
      ]
     },
     "execution_count": 114,
     "metadata": {},
     "output_type": "execute_result"
    }
   ],
   "source": []
  },
  {
   "cell_type": "code",
   "execution_count": null,
   "metadata": {},
   "outputs": [],
   "source": []
  }
 ],
 "metadata": {
  "kernelspec": {
   "display_name": "fomo",
   "language": "python",
   "name": "python3"
  },
  "language_info": {
   "codemirror_mode": {
    "name": "ipython",
    "version": 3
   },
   "file_extension": ".py",
   "mimetype": "text/x-python",
   "name": "python",
   "nbconvert_exporter": "python",
   "pygments_lexer": "ipython3",
   "version": "3.11.12"
  }
 },
 "nbformat": 4,
 "nbformat_minor": 2
}

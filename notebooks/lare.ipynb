{
 "cells": [
  {
   "cell_type": "markdown",
   "id": "33525c72",
   "metadata": {},
   "source": [
    "## LaRE "
   ]
  },
  {
   "cell_type": "code",
   "execution_count": 67,
   "id": "c6e0b118",
   "metadata": {},
   "outputs": [
    {
     "name": "stdout",
     "output_type": "stream",
     "text": [
      "The autoreload extension is already loaded. To reload it, use:\n",
      "  %reload_ext autoreload\n"
     ]
    }
   ],
   "source": [
    "%load_ext autoreload\n",
    "%autoreload 2"
   ]
  },
  {
   "cell_type": "code",
   "execution_count": 68,
   "id": "41fc3c58",
   "metadata": {},
   "outputs": [],
   "source": [
    "# imports\n",
    "import os\n",
    "import sys\n",
    "sys.path.append(os.path.abspath(os.path.join(\"..\")))\n",
    "from models import get_model\n",
    "from torchsummary import summary\n",
    "import torch\n",
    "from src.landmark_extraction import extract_rois"
   ]
  },
  {
   "cell_type": "code",
   "execution_count": 3,
   "id": "42659a30",
   "metadata": {},
   "outputs": [],
   "source": [
    "model_name = \"CLIP:RN50\"\n",
    "model = get_model(model_name)"
   ]
  },
  {
   "cell_type": "code",
   "execution_count": 61,
   "id": "d38de3aa",
   "metadata": {},
   "outputs": [
    {
     "name": "stdout",
     "output_type": "stream",
     "text": [
      "----------------------------------------------------------------\n",
      "        Layer (type)               Output Shape         Param #\n",
      "================================================================\n",
      "            Conv2d-1         [-1, 32, 112, 112]             864\n",
      "       BatchNorm2d-2         [-1, 32, 112, 112]              64\n",
      "              ReLU-3         [-1, 32, 112, 112]               0\n",
      "            Conv2d-4         [-1, 32, 112, 112]           9,216\n",
      "       BatchNorm2d-5         [-1, 32, 112, 112]              64\n",
      "              ReLU-6         [-1, 32, 112, 112]               0\n",
      "            Conv2d-7         [-1, 64, 112, 112]          18,432\n",
      "       BatchNorm2d-8         [-1, 64, 112, 112]             128\n",
      "              ReLU-9         [-1, 64, 112, 112]               0\n",
      "        AvgPool2d-10           [-1, 64, 56, 56]               0\n",
      "           Conv2d-11           [-1, 64, 56, 56]           4,096\n",
      "      BatchNorm2d-12           [-1, 64, 56, 56]             128\n",
      "             ReLU-13           [-1, 64, 56, 56]               0\n",
      "           Conv2d-14           [-1, 64, 56, 56]          36,864\n",
      "      BatchNorm2d-15           [-1, 64, 56, 56]             128\n",
      "             ReLU-16           [-1, 64, 56, 56]               0\n",
      "         Identity-17           [-1, 64, 56, 56]               0\n",
      "           Conv2d-18          [-1, 256, 56, 56]          16,384\n",
      "      BatchNorm2d-19          [-1, 256, 56, 56]             512\n",
      "        AvgPool2d-20           [-1, 64, 56, 56]               0\n",
      "           Conv2d-21          [-1, 256, 56, 56]          16,384\n",
      "      BatchNorm2d-22          [-1, 256, 56, 56]             512\n",
      "             ReLU-23          [-1, 256, 56, 56]               0\n",
      "       Bottleneck-24          [-1, 256, 56, 56]               0\n",
      "           Conv2d-25           [-1, 64, 56, 56]          16,384\n",
      "      BatchNorm2d-26           [-1, 64, 56, 56]             128\n",
      "             ReLU-27           [-1, 64, 56, 56]               0\n",
      "           Conv2d-28           [-1, 64, 56, 56]          36,864\n",
      "      BatchNorm2d-29           [-1, 64, 56, 56]             128\n",
      "             ReLU-30           [-1, 64, 56, 56]               0\n",
      "         Identity-31           [-1, 64, 56, 56]               0\n",
      "           Conv2d-32          [-1, 256, 56, 56]          16,384\n",
      "      BatchNorm2d-33          [-1, 256, 56, 56]             512\n",
      "             ReLU-34          [-1, 256, 56, 56]               0\n",
      "       Bottleneck-35          [-1, 256, 56, 56]               0\n",
      "           Conv2d-36           [-1, 64, 56, 56]          16,384\n",
      "      BatchNorm2d-37           [-1, 64, 56, 56]             128\n",
      "             ReLU-38           [-1, 64, 56, 56]               0\n",
      "           Conv2d-39           [-1, 64, 56, 56]          36,864\n",
      "      BatchNorm2d-40           [-1, 64, 56, 56]             128\n",
      "             ReLU-41           [-1, 64, 56, 56]               0\n",
      "         Identity-42           [-1, 64, 56, 56]               0\n",
      "           Conv2d-43          [-1, 256, 56, 56]          16,384\n",
      "      BatchNorm2d-44          [-1, 256, 56, 56]             512\n",
      "             ReLU-45          [-1, 256, 56, 56]               0\n",
      "       Bottleneck-46          [-1, 256, 56, 56]               0\n",
      "           Conv2d-47          [-1, 128, 56, 56]          32,768\n",
      "      BatchNorm2d-48          [-1, 128, 56, 56]             256\n",
      "             ReLU-49          [-1, 128, 56, 56]               0\n",
      "           Conv2d-50          [-1, 128, 56, 56]         147,456\n",
      "      BatchNorm2d-51          [-1, 128, 56, 56]             256\n",
      "             ReLU-52          [-1, 128, 56, 56]               0\n",
      "        AvgPool2d-53          [-1, 128, 28, 28]               0\n",
      "           Conv2d-54          [-1, 512, 28, 28]          65,536\n",
      "      BatchNorm2d-55          [-1, 512, 28, 28]           1,024\n",
      "        AvgPool2d-56          [-1, 256, 28, 28]               0\n",
      "           Conv2d-57          [-1, 512, 28, 28]         131,072\n",
      "      BatchNorm2d-58          [-1, 512, 28, 28]           1,024\n",
      "             ReLU-59          [-1, 512, 28, 28]               0\n",
      "       Bottleneck-60          [-1, 512, 28, 28]               0\n",
      "           Conv2d-61          [-1, 128, 28, 28]          65,536\n",
      "      BatchNorm2d-62          [-1, 128, 28, 28]             256\n",
      "             ReLU-63          [-1, 128, 28, 28]               0\n",
      "           Conv2d-64          [-1, 128, 28, 28]         147,456\n",
      "      BatchNorm2d-65          [-1, 128, 28, 28]             256\n",
      "             ReLU-66          [-1, 128, 28, 28]               0\n",
      "         Identity-67          [-1, 128, 28, 28]               0\n",
      "           Conv2d-68          [-1, 512, 28, 28]          65,536\n",
      "      BatchNorm2d-69          [-1, 512, 28, 28]           1,024\n",
      "             ReLU-70          [-1, 512, 28, 28]               0\n",
      "       Bottleneck-71          [-1, 512, 28, 28]               0\n",
      "           Conv2d-72          [-1, 128, 28, 28]          65,536\n",
      "      BatchNorm2d-73          [-1, 128, 28, 28]             256\n",
      "             ReLU-74          [-1, 128, 28, 28]               0\n",
      "           Conv2d-75          [-1, 128, 28, 28]         147,456\n",
      "      BatchNorm2d-76          [-1, 128, 28, 28]             256\n",
      "             ReLU-77          [-1, 128, 28, 28]               0\n",
      "         Identity-78          [-1, 128, 28, 28]               0\n",
      "           Conv2d-79          [-1, 512, 28, 28]          65,536\n",
      "      BatchNorm2d-80          [-1, 512, 28, 28]           1,024\n",
      "             ReLU-81          [-1, 512, 28, 28]               0\n",
      "       Bottleneck-82          [-1, 512, 28, 28]               0\n",
      "           Conv2d-83          [-1, 128, 28, 28]          65,536\n",
      "      BatchNorm2d-84          [-1, 128, 28, 28]             256\n",
      "             ReLU-85          [-1, 128, 28, 28]               0\n",
      "           Conv2d-86          [-1, 128, 28, 28]         147,456\n",
      "      BatchNorm2d-87          [-1, 128, 28, 28]             256\n",
      "             ReLU-88          [-1, 128, 28, 28]               0\n",
      "         Identity-89          [-1, 128, 28, 28]               0\n",
      "           Conv2d-90          [-1, 512, 28, 28]          65,536\n",
      "      BatchNorm2d-91          [-1, 512, 28, 28]           1,024\n",
      "             ReLU-92          [-1, 512, 28, 28]               0\n",
      "       Bottleneck-93          [-1, 512, 28, 28]               0\n",
      "           Conv2d-94          [-1, 256, 28, 28]         131,072\n",
      "      BatchNorm2d-95          [-1, 256, 28, 28]             512\n",
      "             ReLU-96          [-1, 256, 28, 28]               0\n",
      "           Conv2d-97          [-1, 256, 28, 28]         589,824\n",
      "      BatchNorm2d-98          [-1, 256, 28, 28]             512\n",
      "             ReLU-99          [-1, 256, 28, 28]               0\n",
      "       AvgPool2d-100          [-1, 256, 14, 14]               0\n",
      "          Conv2d-101         [-1, 1024, 14, 14]         262,144\n",
      "     BatchNorm2d-102         [-1, 1024, 14, 14]           2,048\n",
      "       AvgPool2d-103          [-1, 512, 14, 14]               0\n",
      "          Conv2d-104         [-1, 1024, 14, 14]         524,288\n",
      "     BatchNorm2d-105         [-1, 1024, 14, 14]           2,048\n",
      "            ReLU-106         [-1, 1024, 14, 14]               0\n",
      "      Bottleneck-107         [-1, 1024, 14, 14]               0\n",
      "          Conv2d-108          [-1, 256, 14, 14]         262,144\n",
      "     BatchNorm2d-109          [-1, 256, 14, 14]             512\n",
      "            ReLU-110          [-1, 256, 14, 14]               0\n",
      "          Conv2d-111          [-1, 256, 14, 14]         589,824\n",
      "     BatchNorm2d-112          [-1, 256, 14, 14]             512\n",
      "            ReLU-113          [-1, 256, 14, 14]               0\n",
      "        Identity-114          [-1, 256, 14, 14]               0\n",
      "          Conv2d-115         [-1, 1024, 14, 14]         262,144\n",
      "     BatchNorm2d-116         [-1, 1024, 14, 14]           2,048\n",
      "            ReLU-117         [-1, 1024, 14, 14]               0\n",
      "      Bottleneck-118         [-1, 1024, 14, 14]               0\n",
      "          Conv2d-119          [-1, 256, 14, 14]         262,144\n",
      "     BatchNorm2d-120          [-1, 256, 14, 14]             512\n",
      "            ReLU-121          [-1, 256, 14, 14]               0\n",
      "          Conv2d-122          [-1, 256, 14, 14]         589,824\n",
      "     BatchNorm2d-123          [-1, 256, 14, 14]             512\n",
      "            ReLU-124          [-1, 256, 14, 14]               0\n",
      "        Identity-125          [-1, 256, 14, 14]               0\n",
      "          Conv2d-126         [-1, 1024, 14, 14]         262,144\n",
      "     BatchNorm2d-127         [-1, 1024, 14, 14]           2,048\n",
      "            ReLU-128         [-1, 1024, 14, 14]               0\n",
      "      Bottleneck-129         [-1, 1024, 14, 14]               0\n",
      "          Conv2d-130          [-1, 256, 14, 14]         262,144\n",
      "     BatchNorm2d-131          [-1, 256, 14, 14]             512\n",
      "            ReLU-132          [-1, 256, 14, 14]               0\n",
      "          Conv2d-133          [-1, 256, 14, 14]         589,824\n",
      "     BatchNorm2d-134          [-1, 256, 14, 14]             512\n",
      "            ReLU-135          [-1, 256, 14, 14]               0\n",
      "        Identity-136          [-1, 256, 14, 14]               0\n",
      "          Conv2d-137         [-1, 1024, 14, 14]         262,144\n",
      "     BatchNorm2d-138         [-1, 1024, 14, 14]           2,048\n",
      "            ReLU-139         [-1, 1024, 14, 14]               0\n",
      "      Bottleneck-140         [-1, 1024, 14, 14]               0\n",
      "          Conv2d-141          [-1, 256, 14, 14]         262,144\n",
      "     BatchNorm2d-142          [-1, 256, 14, 14]             512\n",
      "            ReLU-143          [-1, 256, 14, 14]               0\n",
      "          Conv2d-144          [-1, 256, 14, 14]         589,824\n",
      "     BatchNorm2d-145          [-1, 256, 14, 14]             512\n",
      "            ReLU-146          [-1, 256, 14, 14]               0\n",
      "        Identity-147          [-1, 256, 14, 14]               0\n",
      "          Conv2d-148         [-1, 1024, 14, 14]         262,144\n",
      "     BatchNorm2d-149         [-1, 1024, 14, 14]           2,048\n",
      "            ReLU-150         [-1, 1024, 14, 14]               0\n",
      "      Bottleneck-151         [-1, 1024, 14, 14]               0\n",
      "          Conv2d-152          [-1, 256, 14, 14]         262,144\n",
      "     BatchNorm2d-153          [-1, 256, 14, 14]             512\n",
      "            ReLU-154          [-1, 256, 14, 14]               0\n",
      "          Conv2d-155          [-1, 256, 14, 14]         589,824\n",
      "     BatchNorm2d-156          [-1, 256, 14, 14]             512\n",
      "            ReLU-157          [-1, 256, 14, 14]               0\n",
      "        Identity-158          [-1, 256, 14, 14]               0\n",
      "          Conv2d-159         [-1, 1024, 14, 14]         262,144\n",
      "     BatchNorm2d-160         [-1, 1024, 14, 14]           2,048\n",
      "            ReLU-161         [-1, 1024, 14, 14]               0\n",
      "      Bottleneck-162         [-1, 1024, 14, 14]               0\n",
      "          Conv2d-163          [-1, 512, 14, 14]         524,288\n",
      "     BatchNorm2d-164          [-1, 512, 14, 14]           1,024\n",
      "            ReLU-165          [-1, 512, 14, 14]               0\n",
      "          Conv2d-166          [-1, 512, 14, 14]       2,359,296\n",
      "     BatchNorm2d-167          [-1, 512, 14, 14]           1,024\n",
      "            ReLU-168          [-1, 512, 14, 14]               0\n",
      "       AvgPool2d-169            [-1, 512, 7, 7]               0\n",
      "          Conv2d-170           [-1, 2048, 7, 7]       1,048,576\n",
      "     BatchNorm2d-171           [-1, 2048, 7, 7]           4,096\n",
      "       AvgPool2d-172           [-1, 1024, 7, 7]               0\n",
      "          Conv2d-173           [-1, 2048, 7, 7]       2,097,152\n",
      "     BatchNorm2d-174           [-1, 2048, 7, 7]           4,096\n",
      "            ReLU-175           [-1, 2048, 7, 7]               0\n",
      "      Bottleneck-176           [-1, 2048, 7, 7]               0\n",
      "          Conv2d-177            [-1, 512, 7, 7]       1,048,576\n",
      "     BatchNorm2d-178            [-1, 512, 7, 7]           1,024\n",
      "            ReLU-179            [-1, 512, 7, 7]               0\n",
      "          Conv2d-180            [-1, 512, 7, 7]       2,359,296\n",
      "     BatchNorm2d-181            [-1, 512, 7, 7]           1,024\n",
      "            ReLU-182            [-1, 512, 7, 7]               0\n",
      "        Identity-183            [-1, 512, 7, 7]               0\n",
      "          Conv2d-184           [-1, 2048, 7, 7]       1,048,576\n",
      "     BatchNorm2d-185           [-1, 2048, 7, 7]           4,096\n",
      "            ReLU-186           [-1, 2048, 7, 7]               0\n",
      "      Bottleneck-187           [-1, 2048, 7, 7]               0\n",
      "          Conv2d-188            [-1, 512, 7, 7]       1,048,576\n",
      "     BatchNorm2d-189            [-1, 512, 7, 7]           1,024\n",
      "            ReLU-190            [-1, 512, 7, 7]               0\n",
      "          Conv2d-191            [-1, 512, 7, 7]       2,359,296\n",
      "     BatchNorm2d-192            [-1, 512, 7, 7]           1,024\n",
      "            ReLU-193            [-1, 512, 7, 7]               0\n",
      "        Identity-194            [-1, 512, 7, 7]               0\n",
      "          Conv2d-195           [-1, 2048, 7, 7]       1,048,576\n",
      "     BatchNorm2d-196           [-1, 2048, 7, 7]           4,096\n",
      "            ReLU-197           [-1, 2048, 7, 7]               0\n",
      "      Bottleneck-198           [-1, 2048, 7, 7]               0\n",
      " AttentionPool2d-199                 [-1, 1024]               0\n",
      "================================================================\n",
      "Total params: 23,527,264\n",
      "Trainable params: 23,527,264\n",
      "Non-trainable params: 0\n",
      "----------------------------------------------------------------\n",
      "Input size (MB): 0.57\n",
      "Forward/backward pass size (MB): 331.71\n",
      "Params size (MB): 89.75\n",
      "Estimated Total Size (MB): 422.04\n",
      "----------------------------------------------------------------\n"
     ]
    }
   ],
   "source": [
    "summary(model.clip_model.visual, (3, 224, 224))"
   ]
  },
  {
   "cell_type": "code",
   "execution_count": 82,
   "id": "50719a36",
   "metadata": {},
   "outputs": [],
   "source": [
    "model_name = \"CLIP:RN50\"\n",
    "model = get_model(model_name, type=\"wmap\", roi_pooling=True)"
   ]
  },
  {
   "cell_type": "code",
   "execution_count": 85,
   "id": "937df5a2",
   "metadata": {},
   "outputs": [
    {
     "name": "stdout",
     "output_type": "stream",
     "text": [
      "Found 1 face(s) in this photograph.\n",
      "torch.Size([9, 5])\n"
     ]
    }
   ],
   "source": [
    "# Load image and extract landmarks\n",
    "image = \"../misc/john.jpg\"\n",
    "rois = extract_rois(image)\n",
    "boxes = [box for box, _ in rois]\n",
    "# Convert to tensor\n",
    "boxes_tensor = torch.tensor(boxes, dtype=torch.float32)  # shape (N_rois, 4)\n",
    "# Add batch indices (0 if only 1 image)\n",
    "batch_indices = torch.zeros((boxes_tensor.shape[0], 1), dtype=torch.float32)\n",
    "# Concatenate batch index\n",
    "boxes_tensor = torch.cat([batch_indices, boxes_tensor], dim=1)  # (N_rois, 5)\n",
    "print(boxes_tensor.shape)  # should be (N_rois, 5)"
   ]
  },
  {
   "cell_type": "code",
   "execution_count": 86,
   "id": "aa650120",
   "metadata": {},
   "outputs": [
    {
     "data": {
      "text/plain": [
       "torch.Size([1, 3, 224, 224])"
      ]
     },
     "execution_count": 86,
     "metadata": {},
     "output_type": "execute_result"
    }
   ],
   "source": [
    "from PIL import Image\n",
    "import numpy as np\n",
    "\n",
    "# Load image\n",
    "image = Image.open('../misc/john.jpg')\n",
    "# Resize to 224x224\n",
    "image = np.array(image.resize((224, 224)))\n",
    "image_tensor = torch.from_numpy(image).permute(2, 0, 1).float()  # C,H,W\n",
    "image_tensor /= 255.0\n",
    "image_tensor = image_tensor[np.newaxis, :]\n",
    "image_tensor.shape"
   ]
  },
  {
   "cell_type": "code",
   "execution_count": 87,
   "id": "ccb80a6b",
   "metadata": {},
   "outputs": [
    {
     "name": "stdout",
     "output_type": "stream",
     "text": [
      "torch.Size([1, 2])\n"
     ]
    }
   ],
   "source": [
    "image_input = torch.randn(1, 3, 224, 224)\n",
    "loss_map = torch.randn(1, 4, 32, 32)\n",
    "\n",
    "with torch.no_grad():\n",
    "    logits = model(image_tensor, loss_map, rois=boxes_tensor)\n",
    "    print(logits.shape)"
   ]
  },
  {
   "cell_type": "code",
   "execution_count": null,
   "id": "0eb00533",
   "metadata": {},
   "outputs": [],
   "source": []
  },
  {
   "cell_type": "code",
   "execution_count": null,
   "id": "193b9ddb",
   "metadata": {},
   "outputs": [],
   "source": []
  }
 ],
 "metadata": {
  "kernelspec": {
   "display_name": "fomo",
   "language": "python",
   "name": "python3"
  },
  "language_info": {
   "codemirror_mode": {
    "name": "ipython",
    "version": 3
   },
   "file_extension": ".py",
   "mimetype": "text/x-python",
   "name": "python",
   "nbconvert_exporter": "python",
   "pygments_lexer": "ipython3",
   "version": "3.11.12"
  }
 },
 "nbformat": 4,
 "nbformat_minor": 5
}
